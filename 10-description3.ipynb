{
 "cells": [
  {
   "cell_type": "code",
   "execution_count": 3,
   "metadata": {},
   "outputs": [],
   "source": [
    "import pandas as pd\n",
    "import matplotlib.pyplot as plt\n",
    "plt.rcParams[\"font.sans-serif\"]=[\"SimHei\"]"
   ]
  },
  {
   "cell_type": "code",
   "execution_count": 4,
   "metadata": {},
   "outputs": [],
   "source": [
    "df = pd.read_spss(R'identity.sav')"
   ]
  },
  {
   "cell_type": "code",
   "execution_count": 5,
   "metadata": {},
   "outputs": [
    {
     "data": {
      "text/plain": [
       "政治面貌\n",
       "团员    0.734104\n",
       "党员    0.130636\n",
       "群众    0.110983\n",
       "其他    0.024277\n",
       "Name: proportion, dtype: float64"
      ]
     },
     "execution_count": 5,
     "metadata": {},
     "output_type": "execute_result"
    }
   ],
   "source": [
    "df['政治面貌'].value_counts(normalize=True)"
   ]
  },
  {
   "cell_type": "code",
   "execution_count": 6,
   "metadata": {},
   "outputs": [],
   "source": [
    "def 有序变量描述统计函数(表名,变量名):\n",
    "    result = 表名[变量名].value_counts(sort=False)\n",
    "    描述统计表 = pd.DataFrame(result)\n",
    "    描述统计表['比例']=描述统计表['count']/描述统计表['count'].sum()\n",
    "    描述统计表['累计比例']=描述统计表['比例'].cumsum()\n",
    "    return 描述统计表"
   ]
  },
  {
   "cell_type": "code",
   "execution_count": 7,
   "metadata": {},
   "outputs": [],
   "source": [
    "def 数值变量描述统计(数据表,变量名):\n",
    "    result = 数据表[变量名].describe()\n",
    "    中位数 = result['median']\n",
    "    平均值 = result ['mean']\n",
    "    标准差 = result ['std']\n",
    "    return 数据表[变量名].describe()"
   ]
  },
  {
   "cell_type": "code",
   "execution_count": null,
   "metadata": {},
   "outputs": [],
   "source": [
    "df 相关系数强弱判断(相关系数值):\n",
    "  if 相关系数值 >=0.8:\n",
    "     return "
   ]
  },
  {
   "cell_type": "code",
   "execution_count": null,
   "metadata": {},
   "outputs": [],
   "source": [
    "def 读取SPSS"
   ]
  }
 ],
 "metadata": {
  "kernelspec": {
   "display_name": "Python 3",
   "language": "python",
   "name": "python3"
  },
  "language_info": {
   "codemirror_mode": {
    "name": "ipython",
    "version": 3
   },
   "file_extension": ".py",
   "mimetype": "text/x-python",
   "name": "python",
   "nbconvert_exporter": "python",
   "pygments_lexer": "ipython3",
   "version": "3.11.5"
  }
 },
 "nbformat": 4,
 "nbformat_minor": 2
}
