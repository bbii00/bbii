{
 "cells": [
  {
   "cell_type": "code",
   "execution_count": 2,
   "metadata": {},
   "outputs": [
    {
     "ename": "SyntaxError",
     "evalue": "invalid syntax (<ipython-input-2-3c1927af4daf>, line 8)",
     "output_type": "error",
     "traceback": [
      "\u001b[1;36m  Cell \u001b[1;32mIn[2], line 8\u001b[1;36m\u001b[0m\n\u001b[1;33m    团员    0.734104\u001b[0m\n\u001b[1;37m          ^\u001b[0m\n\u001b[1;31mSyntaxError\u001b[0m\u001b[1;31m:\u001b[0m invalid syntax\n"
     ]
    }
   ],
   "source": [
    "import pandas as pd\n",
    "import matplotlib.pyplot as plt\n",
    "plt.rcParams[\"font.sans-serif\"]=[\"SimHei\"] #设置字体\n",
    "df = pd.read_spss(R'data\\identity.sav')\n",
    "# 无序类别变量的描述统计\n",
    "df['政治面貌'].value_counts(normalize=True)\n",
    "政治面貌\n",
    "团员    0.734104\n",
    "党员    0.130636\n",
    "群众    0.110983\n",
    "其他    0.024277\n",
    "Name: proportion, dtype: float64\n",
    "# 生成x、y轴方向的坐标\n",
    "x = df['政治面貌'].value_counts().index\n",
    "y = df['政治面貌'].value_counts(normalize=True).values * 100\n",
    "# 创建图\n",
    "fig, ax = plt.subplots()\n",
    "# 绘制柱状图\n",
    "rects1 = ax.bar(x, y)\n",
    "# 设置x轴变量名称\n",
    "ax.set_xlabel('政治面貌')\n",
    "# 设置y轴最大值\n",
    "ax.set_ylim(ymax=100)\n",
    "# 在柱上方显示对应的值\n",
    "ax.bar_label(rects1, fmt=\"%.1f\", padding=3)\n",
    "# 显示图形\n",
    "plt.show()"
   ]
  }
 ],
 "metadata": {
  "kernelspec": {
   "display_name": "Python 3",
   "language": "python",
   "name": "python3"
  },
  "language_info": {
   "codemirror_mode": {
    "name": "ipython",
    "version": 3
   },
   "file_extension": ".py",
   "mimetype": "text/x-python",
   "name": "python",
   "nbconvert_exporter": "python",
   "pygments_lexer": "ipython3",
   "version": "3.11.5"
  },
  "orig_nbformat": 4
 },
 "nbformat": 4,
 "nbformat_minor": 2
}
