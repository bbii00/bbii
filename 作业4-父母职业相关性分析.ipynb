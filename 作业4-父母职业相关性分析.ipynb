{
 "cells": [
  {
   "cell_type": "code",
   "execution_count": 5,
   "metadata": {},
   "outputs": [],
   "source": [
    "import pandas as pd\n",
    "from pyreadstat import pyreadstat\n",
    "import matplotlib.pyplot as plt"
   ]
  },
  {
   "cell_type": "code",
   "execution_count": 10,
   "metadata": {},
   "outputs": [],
   "source": [
    "df1=pd.read_csv(R'类别变量练习数据 (2).csv',encoding='GBK')"
   ]
  },
  {
   "cell_type": "code",
   "execution_count": 13,
   "metadata": {},
   "outputs": [
    {
     "ename": "TypeError",
     "evalue": "goodmanKruska_tau_y() missing 1 required positional argument: 'y'",
     "output_type": "error",
     "traceback": [
      "\u001b[1;31m---------------------------------------------------------------------------\u001b[0m",
      "\u001b[1;31mTypeError\u001b[0m                                 Traceback (most recent call last)",
      "\u001b[1;32mc:\\Users\\Dell\\Desktop\\bbii\\作业4-父母职业相关性分析.ipynb 单元格 3\u001b[0m line \u001b[0;36m4\n\u001b[0;32m      <a href='vscode-notebook-cell:/c%3A/Users/Dell/Desktop/bbii/%E4%BD%9C%E4%B8%9A4-%E7%88%B6%E6%AF%8D%E8%81%8C%E4%B8%9A%E7%9B%B8%E5%85%B3%E6%80%A7%E5%88%86%E6%9E%90.ipynb#W5sZmlsZQ%3D%3D?line=0'>1</a>\u001b[0m \u001b[39mimport\u001b[39;00m \u001b[39mmytools\u001b[39;00m \u001b[39m#导入mytools模块\u001b[39;00m\n\u001b[0;32m      <a href='vscode-notebook-cell:/c%3A/Users/Dell/Desktop/bbii/%E4%BD%9C%E4%B8%9A4-%E7%88%B6%E6%AF%8D%E8%81%8C%E4%B8%9A%E7%9B%B8%E5%85%B3%E6%80%A7%E5%88%86%E6%9E%90.ipynb#W5sZmlsZQ%3D%3D?line=2'>3</a>\u001b[0m \u001b[39m#计算tauy\u001b[39;00m\n\u001b[1;32m----> <a href='vscode-notebook-cell:/c%3A/Users/Dell/Desktop/bbii/%E4%BD%9C%E4%B8%9A4-%E7%88%B6%E6%AF%8D%E8%81%8C%E4%B8%9A%E7%9B%B8%E5%85%B3%E6%80%A7%E5%88%86%E6%9E%90.ipynb#W5sZmlsZQ%3D%3D?line=3'>4</a>\u001b[0m tau_y \u001b[39m=\u001b[39m mytools\u001b[39m.\u001b[39;49mgoodmanKruska_tau_y(df1,\u001b[39m'\u001b[39;49m\u001b[39m父亲职业重新编码,母亲职业重新编码\u001b[39;49m\u001b[39m'\u001b[39;49m)\n\u001b[0;32m      <a href='vscode-notebook-cell:/c%3A/Users/Dell/Desktop/bbii/%E4%BD%9C%E4%B8%9A4-%E7%88%B6%E6%AF%8D%E8%81%8C%E4%B8%9A%E7%9B%B8%E5%85%B3%E6%80%A7%E5%88%86%E6%9E%90.ipynb#W5sZmlsZQ%3D%3D?line=4'>5</a>\u001b[0m tau_y\n",
      "\u001b[1;31mTypeError\u001b[0m: goodmanKruska_tau_y() missing 1 required positional argument: 'y'"
     ]
    }
   ],
   "source": [
    "import mytools #导入mytools模块\n",
    "\n",
    "#计算tauy\n",
    "tau_y = mytools.goodmanKruska_tau_y(df1,'父亲职业重新编码,母亲职业重新编码')\n",
    "tau_y"
   ]
  },
  {
   "cell_type": "code",
   "execution_count": null,
   "metadata": {},
   "outputs": [
    {
     "ename": "NameError",
     "evalue": "name 'mytools' is not defined",
     "output_type": "error",
     "traceback": [
      "\u001b[1;31m---------------------------------------------------------------------------\u001b[0m",
      "\u001b[1;31mNameError\u001b[0m                                 Traceback (most recent call last)",
      "\u001b[1;32mc:\\Users\\Dell\\Desktop\\bbii\\作业4-父母职业相关性分析.ipynb 单元格 7\u001b[0m line \u001b[0;36m1\n\u001b[1;32m----> <a href='vscode-notebook-cell:/c%3A/Users/Dell/Desktop/bbii/%E4%BD%9C%E4%B8%9A4-%E7%88%B6%E6%AF%8D%E8%81%8C%E4%B8%9A%E7%9B%B8%E5%85%B3%E6%80%A7%E5%88%86%E6%9E%90.ipynb#X10sZmlsZQ%3D%3D?line=0'>1</a>\u001b[0m mytools\u001b[39m.\u001b[39m相关系数强调判断(tau_y)\n",
      "\u001b[1;31mNameError\u001b[0m: name 'mytools' is not defined"
     ]
    }
   ],
   "source": [
    "mytools.相关系数强调判断(tau_y)"
   ]
  }
 ],
 "metadata": {
  "kernelspec": {
   "display_name": "Python 3",
   "language": "python",
   "name": "python3"
  },
  "language_info": {
   "codemirror_mode": {
    "name": "ipython",
    "version": 3
   },
   "file_extension": ".py",
   "mimetype": "text/x-python",
   "name": "python",
   "nbconvert_exporter": "python",
   "pygments_lexer": "ipython3",
   "version": "3.11.5"
  }
 },
 "nbformat": 4,
 "nbformat_minor": 2
}
